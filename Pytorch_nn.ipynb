{
 "cells": [
  {
   "cell_type": "code",
   "execution_count": 3,
   "id": "c6425625",
   "metadata": {},
   "outputs": [],
   "source": [
    "import torch\n",
    "import torch.nn as nn\n",
    "from torch.utils.data import random_split, TensorDataset\n",
    "import numpy as np \n",
    "import pandas as pd\n",
    "from sklearn.preprocessing import StandardScaler"
   ]
  },
  {
   "cell_type": "markdown",
   "id": "d0cff16c",
   "metadata": {},
   "source": [
    "## Set de datos\n",
    "\n",
    "antes de armar la red neuronal vamos a importar los datos que van a requerir usando pandas. vamos a hacer un formato sea compatible con la red reuronal que armaremos."
   ]
  },
  {
   "cell_type": "code",
   "execution_count": 6,
   "id": "1fb13db6",
   "metadata": {},
   "outputs": [
    {
     "data": {
      "text/html": [
       "<div>\n",
       "<style scoped>\n",
       "    .dataframe tbody tr th:only-of-type {\n",
       "        vertical-align: middle;\n",
       "    }\n",
       "\n",
       "    .dataframe tbody tr th {\n",
       "        vertical-align: top;\n",
       "    }\n",
       "\n",
       "    .dataframe thead th {\n",
       "        text-align: right;\n",
       "    }\n",
       "</style>\n",
       "<table border=\"1\" class=\"dataframe\">\n",
       "  <thead>\n",
       "    <tr style=\"text-align: right;\">\n",
       "      <th></th>\n",
       "      <th>RowNumber</th>\n",
       "      <th>CustomerId</th>\n",
       "      <th>Surname</th>\n",
       "      <th>CreditScore</th>\n",
       "      <th>Geography</th>\n",
       "      <th>Gender</th>\n",
       "      <th>Age</th>\n",
       "      <th>Tenure</th>\n",
       "      <th>Balance</th>\n",
       "      <th>NumOfProducts</th>\n",
       "      <th>HasCrCard</th>\n",
       "      <th>IsActiveMember</th>\n",
       "      <th>EstimatedSalary</th>\n",
       "      <th>Exited</th>\n",
       "    </tr>\n",
       "  </thead>\n",
       "  <tbody>\n",
       "    <tr>\n",
       "      <th>0</th>\n",
       "      <td>1</td>\n",
       "      <td>15634602</td>\n",
       "      <td>Hargrave</td>\n",
       "      <td>619</td>\n",
       "      <td>France</td>\n",
       "      <td>Female</td>\n",
       "      <td>42</td>\n",
       "      <td>2</td>\n",
       "      <td>0.00</td>\n",
       "      <td>1</td>\n",
       "      <td>1</td>\n",
       "      <td>1</td>\n",
       "      <td>101348.88</td>\n",
       "      <td>1</td>\n",
       "    </tr>\n",
       "    <tr>\n",
       "      <th>1</th>\n",
       "      <td>2</td>\n",
       "      <td>15647311</td>\n",
       "      <td>Hill</td>\n",
       "      <td>608</td>\n",
       "      <td>Spain</td>\n",
       "      <td>Female</td>\n",
       "      <td>41</td>\n",
       "      <td>1</td>\n",
       "      <td>83807.86</td>\n",
       "      <td>1</td>\n",
       "      <td>0</td>\n",
       "      <td>1</td>\n",
       "      <td>112542.58</td>\n",
       "      <td>0</td>\n",
       "    </tr>\n",
       "    <tr>\n",
       "      <th>2</th>\n",
       "      <td>3</td>\n",
       "      <td>15619304</td>\n",
       "      <td>Onio</td>\n",
       "      <td>502</td>\n",
       "      <td>France</td>\n",
       "      <td>Female</td>\n",
       "      <td>42</td>\n",
       "      <td>8</td>\n",
       "      <td>159660.80</td>\n",
       "      <td>3</td>\n",
       "      <td>1</td>\n",
       "      <td>0</td>\n",
       "      <td>113931.57</td>\n",
       "      <td>1</td>\n",
       "    </tr>\n",
       "    <tr>\n",
       "      <th>3</th>\n",
       "      <td>4</td>\n",
       "      <td>15701354</td>\n",
       "      <td>Boni</td>\n",
       "      <td>699</td>\n",
       "      <td>France</td>\n",
       "      <td>Female</td>\n",
       "      <td>39</td>\n",
       "      <td>1</td>\n",
       "      <td>0.00</td>\n",
       "      <td>2</td>\n",
       "      <td>0</td>\n",
       "      <td>0</td>\n",
       "      <td>93826.63</td>\n",
       "      <td>0</td>\n",
       "    </tr>\n",
       "    <tr>\n",
       "      <th>4</th>\n",
       "      <td>5</td>\n",
       "      <td>15737888</td>\n",
       "      <td>Mitchell</td>\n",
       "      <td>850</td>\n",
       "      <td>Spain</td>\n",
       "      <td>Female</td>\n",
       "      <td>43</td>\n",
       "      <td>2</td>\n",
       "      <td>125510.82</td>\n",
       "      <td>1</td>\n",
       "      <td>1</td>\n",
       "      <td>1</td>\n",
       "      <td>79084.10</td>\n",
       "      <td>0</td>\n",
       "    </tr>\n",
       "  </tbody>\n",
       "</table>\n",
       "</div>"
      ],
      "text/plain": [
       "   RowNumber  CustomerId   Surname  CreditScore Geography  Gender  Age  \\\n",
       "0          1    15634602  Hargrave          619    France  Female   42   \n",
       "1          2    15647311      Hill          608     Spain  Female   41   \n",
       "2          3    15619304      Onio          502    France  Female   42   \n",
       "3          4    15701354      Boni          699    France  Female   39   \n",
       "4          5    15737888  Mitchell          850     Spain  Female   43   \n",
       "\n",
       "   Tenure    Balance  NumOfProducts  HasCrCard  IsActiveMember  \\\n",
       "0       2       0.00              1          1               1   \n",
       "1       1   83807.86              1          0               1   \n",
       "2       8  159660.80              3          1               0   \n",
       "3       1       0.00              2          0               0   \n",
       "4       2  125510.82              1          1               1   \n",
       "\n",
       "   EstimatedSalary  Exited  \n",
       "0        101348.88       1  \n",
       "1        112542.58       0  \n",
       "2        113931.57       1  \n",
       "3         93826.63       0  \n",
       "4         79084.10       0  "
      ]
     },
     "execution_count": 6,
     "metadata": {},
     "output_type": "execute_result"
    }
   ],
   "source": [
    "datos = pd.read_csv('Churn_Modelling.csv')\n",
    "datos.head()"
   ]
  },
  {
   "cell_type": "code",
   "execution_count": 8,
   "id": "6e89746e",
   "metadata": {},
   "outputs": [
    {
     "data": {
      "text/plain": [
       "0       1\n",
       "1       0\n",
       "2       1\n",
       "3       0\n",
       "4       0\n",
       "       ..\n",
       "9995    0\n",
       "9996    0\n",
       "9997    1\n",
       "9998    1\n",
       "9999    0\n",
       "Name: Exited, Length: 10000, dtype: int64"
      ]
     },
     "execution_count": 8,
     "metadata": {},
     "output_type": "execute_result"
    }
   ],
   "source": [
    "#separamos la ultima colmna para que se varible destino\n",
    "datos_y = datos[datos.columns[-1]]\n",
    "datos_y"
   ]
  },
  {
   "cell_type": "code",
   "execution_count": 11,
   "id": "34ae4470",
   "metadata": {},
   "outputs": [
    {
     "data": {
      "text/html": [
       "<div>\n",
       "<style scoped>\n",
       "    .dataframe tbody tr th:only-of-type {\n",
       "        vertical-align: middle;\n",
       "    }\n",
       "\n",
       "    .dataframe tbody tr th {\n",
       "        vertical-align: top;\n",
       "    }\n",
       "\n",
       "    .dataframe thead th {\n",
       "        text-align: right;\n",
       "    }\n",
       "</style>\n",
       "<table border=\"1\" class=\"dataframe\">\n",
       "  <thead>\n",
       "    <tr style=\"text-align: right;\">\n",
       "      <th></th>\n",
       "      <th>CreditScore</th>\n",
       "      <th>Geography</th>\n",
       "      <th>Gender</th>\n",
       "      <th>Age</th>\n",
       "      <th>Tenure</th>\n",
       "      <th>Balance</th>\n",
       "      <th>NumOfProducts</th>\n",
       "      <th>HasCrCard</th>\n",
       "      <th>IsActiveMember</th>\n",
       "      <th>EstimatedSalary</th>\n",
       "    </tr>\n",
       "  </thead>\n",
       "  <tbody>\n",
       "    <tr>\n",
       "      <th>0</th>\n",
       "      <td>619</td>\n",
       "      <td>France</td>\n",
       "      <td>Female</td>\n",
       "      <td>42</td>\n",
       "      <td>2</td>\n",
       "      <td>0.00</td>\n",
       "      <td>1</td>\n",
       "      <td>1</td>\n",
       "      <td>1</td>\n",
       "      <td>101348.88</td>\n",
       "    </tr>\n",
       "    <tr>\n",
       "      <th>1</th>\n",
       "      <td>608</td>\n",
       "      <td>Spain</td>\n",
       "      <td>Female</td>\n",
       "      <td>41</td>\n",
       "      <td>1</td>\n",
       "      <td>83807.86</td>\n",
       "      <td>1</td>\n",
       "      <td>0</td>\n",
       "      <td>1</td>\n",
       "      <td>112542.58</td>\n",
       "    </tr>\n",
       "    <tr>\n",
       "      <th>2</th>\n",
       "      <td>502</td>\n",
       "      <td>France</td>\n",
       "      <td>Female</td>\n",
       "      <td>42</td>\n",
       "      <td>8</td>\n",
       "      <td>159660.80</td>\n",
       "      <td>3</td>\n",
       "      <td>1</td>\n",
       "      <td>0</td>\n",
       "      <td>113931.57</td>\n",
       "    </tr>\n",
       "    <tr>\n",
       "      <th>3</th>\n",
       "      <td>699</td>\n",
       "      <td>France</td>\n",
       "      <td>Female</td>\n",
       "      <td>39</td>\n",
       "      <td>1</td>\n",
       "      <td>0.00</td>\n",
       "      <td>2</td>\n",
       "      <td>0</td>\n",
       "      <td>0</td>\n",
       "      <td>93826.63</td>\n",
       "    </tr>\n",
       "    <tr>\n",
       "      <th>4</th>\n",
       "      <td>850</td>\n",
       "      <td>Spain</td>\n",
       "      <td>Female</td>\n",
       "      <td>43</td>\n",
       "      <td>2</td>\n",
       "      <td>125510.82</td>\n",
       "      <td>1</td>\n",
       "      <td>1</td>\n",
       "      <td>1</td>\n",
       "      <td>79084.10</td>\n",
       "    </tr>\n",
       "  </tbody>\n",
       "</table>\n",
       "</div>"
      ],
      "text/plain": [
       "   CreditScore Geography  Gender  Age  Tenure    Balance  NumOfProducts  \\\n",
       "0          619    France  Female   42       2       0.00              1   \n",
       "1          608     Spain  Female   41       1   83807.86              1   \n",
       "2          502    France  Female   42       8  159660.80              3   \n",
       "3          699    France  Female   39       1       0.00              2   \n",
       "4          850     Spain  Female   43       2  125510.82              1   \n",
       "\n",
       "   HasCrCard  IsActiveMember  EstimatedSalary  \n",
       "0          1               1        101348.88  \n",
       "1          0               1        112542.58  \n",
       "2          1               0        113931.57  \n",
       "3          0               0         93826.63  \n",
       "4          1               1         79084.10  "
      ]
     },
     "execution_count": 11,
     "metadata": {},
     "output_type": "execute_result"
    }
   ],
   "source": [
    "#Elminanos las columnas que no funcionaran\n",
    "datos_x = datos.drop(columns=['RowNumber','CustomerId','Surname','Exited'])\n",
    "datos_x.head()"
   ]
  },
  {
   "cell_type": "code",
   "execution_count": 13,
   "id": "39e68739",
   "metadata": {},
   "outputs": [
    {
     "data": {
      "text/html": [
       "<div>\n",
       "<style scoped>\n",
       "    .dataframe tbody tr th:only-of-type {\n",
       "        vertical-align: middle;\n",
       "    }\n",
       "\n",
       "    .dataframe tbody tr th {\n",
       "        vertical-align: top;\n",
       "    }\n",
       "\n",
       "    .dataframe thead th {\n",
       "        text-align: right;\n",
       "    }\n",
       "</style>\n",
       "<table border=\"1\" class=\"dataframe\">\n",
       "  <thead>\n",
       "    <tr style=\"text-align: right;\">\n",
       "      <th></th>\n",
       "      <th>CreditScore</th>\n",
       "      <th>Age</th>\n",
       "      <th>Tenure</th>\n",
       "      <th>Balance</th>\n",
       "      <th>NumOfProducts</th>\n",
       "      <th>HasCrCard</th>\n",
       "      <th>IsActiveMember</th>\n",
       "      <th>EstimatedSalary</th>\n",
       "      <th>Geography_France</th>\n",
       "      <th>Geography_Germany</th>\n",
       "      <th>Geography_Spain</th>\n",
       "      <th>Gender_Female</th>\n",
       "      <th>Gender_Male</th>\n",
       "    </tr>\n",
       "  </thead>\n",
       "  <tbody>\n",
       "    <tr>\n",
       "      <th>0</th>\n",
       "      <td>619</td>\n",
       "      <td>42</td>\n",
       "      <td>2</td>\n",
       "      <td>0.00</td>\n",
       "      <td>1</td>\n",
       "      <td>1</td>\n",
       "      <td>1</td>\n",
       "      <td>101348.88</td>\n",
       "      <td>1</td>\n",
       "      <td>0</td>\n",
       "      <td>0</td>\n",
       "      <td>1</td>\n",
       "      <td>0</td>\n",
       "    </tr>\n",
       "    <tr>\n",
       "      <th>1</th>\n",
       "      <td>608</td>\n",
       "      <td>41</td>\n",
       "      <td>1</td>\n",
       "      <td>83807.86</td>\n",
       "      <td>1</td>\n",
       "      <td>0</td>\n",
       "      <td>1</td>\n",
       "      <td>112542.58</td>\n",
       "      <td>0</td>\n",
       "      <td>0</td>\n",
       "      <td>1</td>\n",
       "      <td>1</td>\n",
       "      <td>0</td>\n",
       "    </tr>\n",
       "    <tr>\n",
       "      <th>2</th>\n",
       "      <td>502</td>\n",
       "      <td>42</td>\n",
       "      <td>8</td>\n",
       "      <td>159660.80</td>\n",
       "      <td>3</td>\n",
       "      <td>1</td>\n",
       "      <td>0</td>\n",
       "      <td>113931.57</td>\n",
       "      <td>1</td>\n",
       "      <td>0</td>\n",
       "      <td>0</td>\n",
       "      <td>1</td>\n",
       "      <td>0</td>\n",
       "    </tr>\n",
       "    <tr>\n",
       "      <th>3</th>\n",
       "      <td>699</td>\n",
       "      <td>39</td>\n",
       "      <td>1</td>\n",
       "      <td>0.00</td>\n",
       "      <td>2</td>\n",
       "      <td>0</td>\n",
       "      <td>0</td>\n",
       "      <td>93826.63</td>\n",
       "      <td>1</td>\n",
       "      <td>0</td>\n",
       "      <td>0</td>\n",
       "      <td>1</td>\n",
       "      <td>0</td>\n",
       "    </tr>\n",
       "    <tr>\n",
       "      <th>4</th>\n",
       "      <td>850</td>\n",
       "      <td>43</td>\n",
       "      <td>2</td>\n",
       "      <td>125510.82</td>\n",
       "      <td>1</td>\n",
       "      <td>1</td>\n",
       "      <td>1</td>\n",
       "      <td>79084.10</td>\n",
       "      <td>0</td>\n",
       "      <td>0</td>\n",
       "      <td>1</td>\n",
       "      <td>1</td>\n",
       "      <td>0</td>\n",
       "    </tr>\n",
       "  </tbody>\n",
       "</table>\n",
       "</div>"
      ],
      "text/plain": [
       "   CreditScore  Age  Tenure    Balance  NumOfProducts  HasCrCard  \\\n",
       "0          619   42       2       0.00              1          1   \n",
       "1          608   41       1   83807.86              1          0   \n",
       "2          502   42       8  159660.80              3          1   \n",
       "3          699   39       1       0.00              2          0   \n",
       "4          850   43       2  125510.82              1          1   \n",
       "\n",
       "   IsActiveMember  EstimatedSalary  Geography_France  Geography_Germany  \\\n",
       "0               1        101348.88                 1                  0   \n",
       "1               1        112542.58                 0                  0   \n",
       "2               0        113931.57                 1                  0   \n",
       "3               0         93826.63                 1                  0   \n",
       "4               1         79084.10                 0                  0   \n",
       "\n",
       "   Geography_Spain  Gender_Female  Gender_Male  \n",
       "0                0              1            0  \n",
       "1                1              1            0  \n",
       "2                0              1            0  \n",
       "3                0              1            0  \n",
       "4                1              1            0  "
      ]
     },
     "execution_count": 13,
     "metadata": {},
     "output_type": "execute_result"
    }
   ],
   "source": [
    "#hacemos un one hot encoding, ya que las redes reuronales no procesan data de str\n",
    "datos_x = pd.get_dummies(datos_x)\n",
    "datos_x.head()"
   ]
  },
  {
   "cell_type": "markdown",
   "id": "a99366b7",
   "metadata": {},
   "source": [
    "## Escalamos datos\n",
    "\n",
    "Ahora vamos a escalar los valores para que se encuentre dentro de un rango mas corto"
   ]
  },
  {
   "cell_type": "code",
   "execution_count": 14,
   "id": "70387884",
   "metadata": {},
   "outputs": [
    {
     "name": "stdout",
     "output_type": "stream",
     "text": [
      "[[-0.32622142  0.29351742 -1.04175968 ... -0.57380915  1.09598752\n",
      "  -1.09598752]\n",
      " [-0.44003595  0.19816383 -1.38753759 ...  1.74273971  1.09598752\n",
      "  -1.09598752]\n",
      " [-1.53679418  0.29351742  1.03290776 ... -0.57380915  1.09598752\n",
      "  -1.09598752]\n",
      " ...\n",
      " [ 0.60498839 -0.27860412  0.68712986 ... -0.57380915  1.09598752\n",
      "  -1.09598752]\n",
      " [ 1.25683526  0.29351742 -0.69598177 ... -0.57380915 -0.91241915\n",
      "   0.91241915]\n",
      " [ 1.46377078 -1.04143285 -0.35020386 ... -0.57380915  1.09598752\n",
      "  -1.09598752]]\n"
     ]
    }
   ],
   "source": [
    "escalador = StandardScaler()\n",
    "datos_x = escalador.fit_transform(datos_x)\n",
    "print(datos_x)"
   ]
  },
  {
   "cell_type": "markdown",
   "id": "f16260c8",
   "metadata": {},
   "source": [
    "## Dividimos datos de entrenamiento y test"
   ]
  },
  {
   "cell_type": "code",
   "execution_count": 44,
   "id": "a6743e2a",
   "metadata": {},
   "outputs": [
    {
     "data": {
      "text/plain": [
       "(10000, 13)"
      ]
     },
     "execution_count": 44,
     "metadata": {},
     "output_type": "execute_result"
    }
   ],
   "source": [
    "datos_x.shape #tengo 10 000 registros en 13 columnas"
   ]
  },
  {
   "cell_type": "code",
   "execution_count": 45,
   "id": "45e73604",
   "metadata": {},
   "outputs": [],
   "source": [
    "from sklearn.model_selection import train_test_split\n",
    "X_train, X_test, y_train, y_test = train_test_split(datos_x, datos_y, test_size=0.2,random_state=2)"
   ]
  },
  {
   "cell_type": "code",
   "execution_count": 46,
   "id": "bbefa524",
   "metadata": {},
   "outputs": [
    {
     "name": "stdout",
     "output_type": "stream",
     "text": [
      "X_train:(8000, 13), X_test:(2000, 13), y_train:(8000,), y_test:(2000,)\n"
     ]
    }
   ],
   "source": [
    "print('X_train:{}, X_test:{}, y_train:{}, y_test:{}'.format(X_train.shape, X_test.shape, y_train.shape, y_test.shape))"
   ]
  },
  {
   "cell_type": "code",
   "execution_count": 47,
   "id": "7b100e4d",
   "metadata": {},
   "outputs": [
    {
     "data": {
      "text/plain": [
       "13"
      ]
     },
     "execution_count": 47,
     "metadata": {},
     "output_type": "execute_result"
    }
   ],
   "source": [
    "n_entradas = X_train.shape[1]\n",
    "n_entradas"
   ]
  },
  {
   "cell_type": "markdown",
   "id": "e1881106",
   "metadata": {},
   "source": [
    "# Pytorch"
   ]
  },
  {
   "cell_type": "code",
   "execution_count": 81,
   "id": "42b02c60",
   "metadata": {},
   "outputs": [],
   "source": [
    "#data in cpu"
   ]
  },
  {
   "cell_type": "code",
   "execution_count": 83,
   "id": "d4c412a3",
   "metadata": {},
   "outputs": [],
   "source": [
    "# t_X_train = torch.from_numpy(X_train).float().to('cpu')\n",
    "# t_X_test = torch.from_numpy(X_test).float().to('cpu')\n",
    "\n",
    "# t_y_train = torch.from_numpy(y_train.values).float().to('cpu')\n",
    "# t_y_test = torch.from_numpy(y_test.values).float().to('cpu')\n",
    "\n",
    "# t_y_train = t_y_train[:,None]\n",
    "# t_y_test = t_y_test[:,None]"
   ]
  },
  {
   "cell_type": "code",
   "execution_count": 82,
   "id": "44a832ac",
   "metadata": {},
   "outputs": [],
   "source": [
    "#data in GPU"
   ]
  },
  {
   "cell_type": "code",
   "execution_count": 85,
   "id": "99537e2b",
   "metadata": {},
   "outputs": [],
   "source": [
    "t_X_train = torch.from_numpy(X_train).float().to('cuda')\n",
    "t_X_test = torch.from_numpy(X_test).float().to('cuda')\n",
    "\n",
    "t_y_train = torch.from_numpy(y_train.values).float().to('cuda')\n",
    "t_y_test = torch.from_numpy(y_test.values).float().to('cuda')\n",
    "\n",
    "t_y_train = t_y_train[:,None]\n",
    "t_y_test = t_y_test[:,None]"
   ]
  },
  {
   "cell_type": "code",
   "execution_count": 86,
   "id": "210a5863",
   "metadata": {},
   "outputs": [
    {
     "name": "stdout",
     "output_type": "stream",
     "text": [
      "(tensor([ 0.8326, -0.0879,  1.7245,  0.7569,  0.8077,  0.6461, -1.0307,  1.2390,\n",
      "         0.9972, -0.5787, -0.5738,  1.0960, -1.0960]), tensor([1.], device='cuda:0'))\n"
     ]
    }
   ],
   "source": [
    "test = TensorDataset(t_x_test,t_y_test)\n",
    "print(test[0])"
   ]
  },
  {
   "cell_type": "markdown",
   "id": "aec36b77",
   "metadata": {},
   "source": [
    "## cosntruccion de red neuronal "
   ]
  },
  {
   "cell_type": "code",
   "execution_count": 87,
   "id": "b2c52de1",
   "metadata": {},
   "outputs": [],
   "source": [
    "class Red(nn.Module):\n",
    "    def __init__(self, n_entradas):\n",
    "        super(Red, self).__init__()\n",
    "        self.linear1 = nn.Linear(n_entradas, 15)\n",
    "        self.linear2 = nn.Linear(15, 8)\n",
    "        self.linear3 = nn.Linear(8, 1)\n",
    "    \n",
    "    def forward(self, inputs):\n",
    "        pred_1 = torch.sigmoid(input=self.linear1(inputs))\n",
    "        pred_2 = torch.sigmoid(input=self.linear2(pred_1))\n",
    "        pred_f = torch.sigmoid(input=self.linear3(pred_2))\n",
    "        return pred_f"
   ]
  },
  {
   "cell_type": "code",
   "execution_count": 88,
   "id": "59b30b4e",
   "metadata": {},
   "outputs": [
    {
     "name": "stdout",
     "output_type": "stream",
     "text": [
      "Arquitectura del modelo: Red(\n",
      "  (linear1): Linear(in_features=13, out_features=15, bias=True)\n",
      "  (linear2): Linear(in_features=15, out_features=8, bias=True)\n",
      "  (linear3): Linear(in_features=8, out_features=1, bias=True)\n",
      ")\n",
      "Entranando el modelo\n",
      "\n",
      "Epoch 100 \t Loss: 0.5235\n",
      "Accuracy: 80.85000610351562\n",
      "\n",
      "Epoch 200 \t Loss: 0.4975\n",
      "Accuracy: 80.85000610351562\n",
      "\n",
      "Epoch 300 \t Loss: 0.4895\n",
      "Accuracy: 80.85000610351562\n",
      "\n",
      "Epoch 400 \t Loss: 0.4835\n",
      "Accuracy: 80.85000610351562\n",
      "\n",
      "Epoch 500 \t Loss: 0.4774\n",
      "Accuracy: 80.85000610351562\n",
      "\n",
      "Epoch 600 \t Loss: 0.4706\n",
      "Accuracy: 80.85000610351562\n",
      "\n",
      "Epoch 700 \t Loss: 0.4631\n",
      "Accuracy: 80.85000610351562\n",
      "\n",
      "Epoch 800 \t Loss: 0.455\n",
      "Accuracy: 80.85000610351562\n",
      "\n",
      "Epoch 900 \t Loss: 0.4468\n",
      "Accuracy: 80.85000610351562\n",
      "\n",
      "Epoch 1000 \t Loss: 0.4392\n",
      "Accuracy: 80.85000610351562\n",
      "\n",
      "Epoch 1100 \t Loss: 0.4326\n",
      "Accuracy: 80.85000610351562\n",
      "\n",
      "Epoch 1200 \t Loss: 0.4272\n",
      "Accuracy: 81.30000305175781\n",
      "\n",
      "Epoch 1300 \t Loss: 0.4227\n",
      "Accuracy: 81.95000457763672\n",
      "\n",
      "Epoch 1400 \t Loss: 0.4186\n",
      "Accuracy: 82.45000457763672\n",
      "\n",
      "Epoch 1500 \t Loss: 0.415\n",
      "Accuracy: 82.60000610351562\n",
      "\n",
      "Epoch 1600 \t Loss: 0.4115\n",
      "Accuracy: 83.20000457763672\n",
      "\n",
      "Epoch 1700 \t Loss: 0.4082\n",
      "Accuracy: 83.4000015258789\n",
      "\n",
      "Epoch 1800 \t Loss: 0.4052\n",
      "Accuracy: 83.35000610351562\n",
      "\n",
      "Epoch 1900 \t Loss: 0.4025\n",
      "Accuracy: 83.75000762939453\n",
      "\n",
      "Epoch 2000 \t Loss: 0.4\n",
      "Accuracy: 83.60000610351562\n",
      "Accuracy final: 83.6\n",
      "Wall time: 6.04 s\n"
     ]
    }
   ],
   "source": [
    "%%time\n",
    "lr = 0.001\n",
    "epochs = 2000\n",
    "estatus_print = 100\n",
    "\n",
    "model = Red(n_entradas=n_entradas).cuda() # si quieres entrenar con cuda sino lo quitas\n",
    "loss_fn = nn.BCELoss()\n",
    "optimizer = torch.optim.Adam(params=model.parameters(), lr=lr)\n",
    "print(\"Arquitectura del modelo: {}\".format(model))\n",
    "\n",
    "historico = pd.DataFrame()\n",
    "\n",
    "print(\"Entranando el modelo\")\n",
    "for epoch in range(1, epochs+1):\n",
    "    y_pred= model(t_X_train)\n",
    "    loss = loss_fn(input=y_pred, target=t_y_train)\n",
    "    loss.backward()\n",
    "    optimizer.step()\n",
    "    optimizer.zero_grad()\n",
    "    \n",
    "    if epoch % estatus_print == 0:\n",
    "        print(f\"\\nEpoch {epoch} \\t Loss: {round(loss.item(), 4)}\")\n",
    "    \n",
    "    with torch.no_grad():\n",
    "        y_pred = model(t_X_test)\n",
    "        y_pred_class = y_pred.round()\n",
    "        correct = (y_pred_class == t_y_test).sum()\n",
    "        accuracy = 100 * correct / float(len(t_y_test))\n",
    "        if epoch % estatus_print == 0:\n",
    "            print(\"Accuracy: {}\".format(accuracy.item()))\n",
    "    \n",
    "    df_tmp = pd.DataFrame(data={\n",
    "        'Epoch': epoch,\n",
    "        'Loss': round(loss.item(), 4),\n",
    "        'Accuracy': round(accuracy.item(), 4)\n",
    "    }, index=[0])\n",
    "    historico = pd.concat(objs=[historico, df_tmp], ignore_index=True, sort=False)\n",
    "\n",
    "print(\"Accuracy final: {}\".format(round(accuracy.item(), 4)))"
   ]
  },
  {
   "cell_type": "markdown",
   "id": "5e258fd9",
   "metadata": {},
   "source": [
    "cuda: 5.89\n",
    "cpu: 7.33"
   ]
  }
 ],
 "metadata": {
  "kernelspec": {
   "display_name": "Python 3 (ipykernel)",
   "language": "python",
   "name": "python3"
  },
  "language_info": {
   "codemirror_mode": {
    "name": "ipython",
    "version": 3
   },
   "file_extension": ".py",
   "mimetype": "text/x-python",
   "name": "python",
   "nbconvert_exporter": "python",
   "pygments_lexer": "ipython3",
   "version": "3.9.7"
  }
 },
 "nbformat": 4,
 "nbformat_minor": 5
}
